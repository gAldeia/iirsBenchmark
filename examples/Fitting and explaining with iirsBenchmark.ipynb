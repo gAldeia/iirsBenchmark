{
 "cells": [
  {
   "cell_type": "code",
   "execution_count": 1,
   "id": "d7e74506",
   "metadata": {},
   "outputs": [
    {
     "name": "stdout",
     "output_type": "stream",
     "text": [
      "gen | smallest fitness | mean fitness | highest fitness | remaining time\n",
      "----------------------------------------------------------------------------\n",
      "  0 |         0.765646 |     1.229745 |        1.331550 | 1min8sec    \n",
      "  5 |         0.799949 |     1.050015 |        1.165380 | 2min3sec    \n",
      " 10 |         0.770871 |     0.816944 |        0.947580 | 3min4sec    \n",
      " 15 |         0.706949 |     0.770836 |        0.803728 | 2min45sec   \n",
      " 20 |         0.676428 |          inf |             inf | 2min6sec    \n",
      " 25 |         0.610492 |     0.663164 |        0.709189 | 1min45sec   \n",
      " 30 |         0.609029 |     0.635661 |        0.752983 | 1min13sec   \n",
      " 35 |         0.585906 |     0.612957 |        0.685914 | 0min58sec   \n",
      " 40 |         0.556139 |     0.597156 |        0.627084 | 0min38sec   \n",
      " 45 |         0.545046 |     0.567422 |        0.619896 | 0min19sec   \n",
      "True\n",
      "False\n",
      "0.0*id(x_0^-2 * x_1^-4 * x_2^-4 * x_3^-4 * x_4^2 * x_5 * x_6^3 * x_7^2) + -0.0*sqrt(x_0^4 * x_1 * x_2^-1 * x_3^2 * x_4^2 * x_5^-1 * x_7^2) + -0.074*expn(x_0^-4 * x_1^4 * x_2^-1 * x_3^2 * x_4^-3 * x_5^3 * x_6^-2 * x_7^4) + 13.976*sqrt(x_0^3 * x_1^-1 * x_2^-2 * x_3 * x_5 * x_6^-2) + 1.148*tanh(x_0^-4 * x_2^-2 * x_5^-2 * x_6^2 * x_7) + -0.0*sqrt(x_0^3 * x_1^2 * x_2^-1 * x_3 * x_4^4 * x_5 * x_6^-2 * x_7^2) + 0.274*log(x_0^-2 * x_1^-3 * x_5 * x_6^-2 * x_7^-4) + -0.347*log(x_0^-4 * x_1^-3 * x_2^2 * x_5^4 * x_6^-4 * x_7^2) + 0.0*sqrt(x_0^4 * x_1^2 * x_2^-2 * x_3 * x_7^4) + 0.0*sqrt(x_0^4 * x_1^3 * x_2^-3 * x_3^3 * x_4^2 * x_5^-1 * x_7^4) + 8.697\n",
      "0.437*x_0 + 0.009*x_1 + -0.107*x_2 + 0.645*x_3 + -0.0*x_4 + -0.004*x_5 + -0.421*x_6 + -0.435*x_7 + -36.942\n"
     ]
    }
   ],
   "source": [
    "from iirsBenchmark.regressors import ITEA_regressor, Linear_regressor\n",
    "from iirsBenchmark.explainers import SHAP_explainer, PermutationImportance_explainer\n",
    "\n",
    "from sklearn import datasets\n",
    "\n",
    "housing_data = datasets.fetch_california_housing()\n",
    "X, y = housing_data['data'], housing_data['target']\n",
    "\n",
    "linear = Linear_regressor().fit(X, y)\n",
    "\n",
    "# if you want to specify a parameter, it should be made by named arguments.\n",
    "# there is few exceptions in iirsBenchmark where arguments are positional.\n",
    "itea = ITEA_regressor(popsize=50, gens=50, verbose=5).fit(X, y)\n",
    "\n",
    "print(itea.stochastic_executions)   # True\n",
    "print(linear.stochastic_executions) # False\n",
    "\n",
    "print(itea.to_str())   # will print a symbolic equation\n",
    "print(linear.to_str()) # will print a linear regression equation"
   ]
  },
  {
   "cell_type": "code",
   "execution_count": 2,
   "id": "12549138",
   "metadata": {},
   "outputs": [
    {
     "name": "stdout",
     "output_type": "stream",
     "text": [
      "[[ 2.42449150e-01  4.06298442e-01  5.14656512e-02  1.33415196e-02\n",
      "  -2.71422908e-01  2.89319075e-01  3.66932646e-02 -2.79043545e-02]\n",
      " [ 5.89693953e-02  4.56378343e-01  9.42245310e-03 -8.07137555e-02\n",
      "  -3.64994139e-04  3.12595126e-01  3.90928597e-02 -2.51470151e-02]\n",
      " [-2.28396693e-01  4.68066097e-01  5.30120261e-02 -9.68271933e-03\n",
      "   1.44259281e-02  5.19923284e-01  4.11099104e-02 -2.46839677e-02]\n",
      " [-7.84592302e-01  2.41349127e-01  1.74814983e-01  1.75959673e-02\n",
      "   1.76094104e-02  3.61298733e-01  4.19040751e-02 -3.17369923e-02]\n",
      " [ 7.80821649e-02  5.29881494e-01 -3.81653447e-03 -6.92249725e-02\n",
      "   1.35928088e-01  2.98560409e-01  3.85416313e-02 -2.02555806e-02]]\n",
      "[[ 1.30842294  0.48324006 -0.18422588 -0.00393078 -0.24871136  0.05628855\n",
      "   0.00347711 -0.02710309]]\n"
     ]
    }
   ],
   "source": [
    "# you must pass the regressor as a named argument for every explainer constructor\n",
    "shap = SHAP_explainer(predictor=itea).fit(X, y)\n",
    "\n",
    "# Local explanation takes a matrix where each line is an observation, and\n",
    "# returns a matrix where each line is the feature importance for the respective input.\n",
    "# Single observations should be reshaped into a 2D array with x.reshape(1, -1).\n",
    "local_exps = shap.explain_local(X[5:10, :])\n",
    "local_exp  = shap.explain_local(X[3].reshape(1, -1))\n",
    "\n",
    "print(local_exps)\n",
    "print(local_exp)"
   ]
  },
  {
   "cell_type": "code",
   "execution_count": 3,
   "id": "67136f22",
   "metadata": {},
   "outputs": [
    {
     "name": "stdout",
     "output_type": "stream",
     "text": [
      "[[ 2.11713736e+00  1.89619167e-01  2.65937522e-01  3.43862424e-01\n",
      "   1.30719958e+00  1.33400128e-01 -4.41067571e-03  1.17129807e-03]]\n"
     ]
    }
   ],
   "source": [
    "# Global explanation take more than one sample (ideally the whole train/test data)\n",
    "# and returns a single global feature importance for each variable.\n",
    "pe = PermutationImportance_explainer(predictor=itea).fit(X, y)\n",
    "\n",
    "global_exp = pe.explain_global(X, y)\n",
    "\n",
    "print(global_exp)"
   ]
  },
  {
   "cell_type": "code",
   "execution_count": null,
   "id": "fda56a76",
   "metadata": {},
   "outputs": [],
   "source": [
    "from iirsBenchmark import expl_measures\n",
    "\n",
    "# you need to provide a neighborhood to the observation being evaluated\n",
    "# with those measures\n",
    "\n",
    "obs_to_explain = X[3].reshape(1, -1)\n",
    "\n",
    "neighbors = expl_measures.neighborhood(\n",
    "    obs_to_explain, # The observation \n",
    "    X,              # Training data to calculate the multivariate normal distribution\n",
    "    factor=0.001,   # spread of the neighbors\n",
    "    size=30         # number of neighbors to sample\n",
    ")\n",
    "\n",
    "expl_measures.stability(\n",
    "    shap,           # the explainer we want to evaluate\n",
    "    obs_to_explain, # the observation to explain\n",
    "    neighbors       # sampled neighbors to evaluate the metric\n",
    ")"
   ]
  }
 ],
 "metadata": {
  "kernelspec": {
   "display_name": "Python 3",
   "language": "python",
   "name": "python3"
  },
  "language_info": {
   "codemirror_mode": {
    "name": "ipython",
    "version": 3
   },
   "file_extension": ".py",
   "mimetype": "text/x-python",
   "name": "python",
   "nbconvert_exporter": "python",
   "pygments_lexer": "ipython3",
   "version": "3.7.6"
  }
 },
 "nbformat": 4,
 "nbformat_minor": 5
}
