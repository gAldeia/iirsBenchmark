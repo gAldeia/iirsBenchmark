{
 "cells": [
  {
   "cell_type": "code",
   "execution_count": 1,
   "id": "26f0137c",
   "metadata": {},
   "outputs": [],
   "source": [
    "import pandas                   as pd\n",
    "import numpy                    as np\n",
    "import matplotlib.pyplot        as plt\n",
    "import seaborn                  as sns\n",
    "import iirsBenchmark.regressors as regressors\n",
    "\n",
    "import Auxiliary\n",
    "\n",
    "from IPython.display  import display\n",
    "from CriticalDiagrams import draw_cd_diagram\n",
    "\n",
    "\n",
    "# Setting everything up\n",
    "Auxiliary.create_global_file_path_variables(results_path='../../results')\n",
    "Auxiliary.set_mpl_sns_params(abnt=False)\n",
    "\n",
    "%matplotlib inline\n",
    "\n",
    "analyzed_path = f'../post hoc analysis files/' # Where to save the plots"
   ]
  },
  {
   "cell_type": "markdown",
   "id": "09f3cd25",
   "metadata": {},
   "source": [
    "## Inspectioning the Feynman data sets"
   ]
  },
  {
   "cell_type": "code",
   "execution_count": 2,
   "id": "4e797d60",
   "metadata": {},
   "outputs": [
    {
     "data": {
      "text/html": [
       "<div>\n",
       "<style scoped>\n",
       "    .dataframe tbody tr th:only-of-type {\n",
       "        vertical-align: middle;\n",
       "    }\n",
       "\n",
       "    .dataframe tbody tr th {\n",
       "        vertical-align: top;\n",
       "    }\n",
       "\n",
       "    .dataframe thead th {\n",
       "        text-align: right;\n",
       "    }\n",
       "</style>\n",
       "<table border=\"1\" class=\"dataframe\">\n",
       "  <thead>\n",
       "    <tr style=\"text-align: right;\">\n",
       "      <th></th>\n",
       "      <th>Filename</th>\n",
       "      <th>Number</th>\n",
       "      <th>Output</th>\n",
       "      <th>Formula</th>\n",
       "      <th># variables</th>\n",
       "      <th>v1_name</th>\n",
       "      <th>v1_low</th>\n",
       "      <th>v1_high</th>\n",
       "      <th>v2_name</th>\n",
       "      <th>v2_low</th>\n",
       "      <th>...</th>\n",
       "      <th>v7_high</th>\n",
       "      <th>v8_name</th>\n",
       "      <th>v8_low</th>\n",
       "      <th>v8_high</th>\n",
       "      <th>v9_name</th>\n",
       "      <th>v9_low</th>\n",
       "      <th>v9_high</th>\n",
       "      <th>v10_name</th>\n",
       "      <th>v10_low</th>\n",
       "      <th>v10_high</th>\n",
       "    </tr>\n",
       "  </thead>\n",
       "  <tbody>\n",
       "    <tr>\n",
       "      <th>0</th>\n",
       "      <td>I.6.2</td>\n",
       "      <td>2</td>\n",
       "      <td>f</td>\n",
       "      <td>exp(-(theta/sigma)**2/2)/(sqrt(2*pi)*sigma)</td>\n",
       "      <td>2</td>\n",
       "      <td>sigma</td>\n",
       "      <td>1</td>\n",
       "      <td>3</td>\n",
       "      <td>theta</td>\n",
       "      <td>1</td>\n",
       "      <td>...</td>\n",
       "      <td>NaN</td>\n",
       "      <td>NaN</td>\n",
       "      <td>NaN</td>\n",
       "      <td>NaN</td>\n",
       "      <td>NaN</td>\n",
       "      <td>NaN</td>\n",
       "      <td>NaN</td>\n",
       "      <td>NaN</td>\n",
       "      <td>NaN</td>\n",
       "      <td>NaN</td>\n",
       "    </tr>\n",
       "    <tr>\n",
       "      <th>1</th>\n",
       "      <td>I.6.2b</td>\n",
       "      <td>3</td>\n",
       "      <td>f</td>\n",
       "      <td>exp(-((theta-theta1)/sigma)**2/2)/(sqrt(2*pi)*...</td>\n",
       "      <td>3</td>\n",
       "      <td>sigma</td>\n",
       "      <td>1</td>\n",
       "      <td>3</td>\n",
       "      <td>theta</td>\n",
       "      <td>1</td>\n",
       "      <td>...</td>\n",
       "      <td>NaN</td>\n",
       "      <td>NaN</td>\n",
       "      <td>NaN</td>\n",
       "      <td>NaN</td>\n",
       "      <td>NaN</td>\n",
       "      <td>NaN</td>\n",
       "      <td>NaN</td>\n",
       "      <td>NaN</td>\n",
       "      <td>NaN</td>\n",
       "      <td>NaN</td>\n",
       "    </tr>\n",
       "    <tr>\n",
       "      <th>2</th>\n",
       "      <td>I.8.14</td>\n",
       "      <td>4</td>\n",
       "      <td>d</td>\n",
       "      <td>sqrt((x2-x1)**2+(y2-y1)**2)</td>\n",
       "      <td>4</td>\n",
       "      <td>x1</td>\n",
       "      <td>1</td>\n",
       "      <td>5</td>\n",
       "      <td>x2</td>\n",
       "      <td>1</td>\n",
       "      <td>...</td>\n",
       "      <td>NaN</td>\n",
       "      <td>NaN</td>\n",
       "      <td>NaN</td>\n",
       "      <td>NaN</td>\n",
       "      <td>NaN</td>\n",
       "      <td>NaN</td>\n",
       "      <td>NaN</td>\n",
       "      <td>NaN</td>\n",
       "      <td>NaN</td>\n",
       "      <td>NaN</td>\n",
       "    </tr>\n",
       "    <tr>\n",
       "      <th>3</th>\n",
       "      <td>I.9.18</td>\n",
       "      <td>5</td>\n",
       "      <td>F</td>\n",
       "      <td>G*m1*m2/((x2-x1)**2+(y2-y1)**2+(z2-z1)**2)</td>\n",
       "      <td>9</td>\n",
       "      <td>m1</td>\n",
       "      <td>1</td>\n",
       "      <td>2</td>\n",
       "      <td>m2</td>\n",
       "      <td>1</td>\n",
       "      <td>...</td>\n",
       "      <td>2.0</td>\n",
       "      <td>z1</td>\n",
       "      <td>3.0</td>\n",
       "      <td>4.0</td>\n",
       "      <td>z2</td>\n",
       "      <td>1.0</td>\n",
       "      <td>2.0</td>\n",
       "      <td>NaN</td>\n",
       "      <td>NaN</td>\n",
       "      <td>NaN</td>\n",
       "    </tr>\n",
       "    <tr>\n",
       "      <th>4</th>\n",
       "      <td>I.10.7</td>\n",
       "      <td>6</td>\n",
       "      <td>m</td>\n",
       "      <td>m_0/sqrt(1-v**2/c**2)</td>\n",
       "      <td>3</td>\n",
       "      <td>m_0</td>\n",
       "      <td>1</td>\n",
       "      <td>5</td>\n",
       "      <td>v</td>\n",
       "      <td>1</td>\n",
       "      <td>...</td>\n",
       "      <td>NaN</td>\n",
       "      <td>NaN</td>\n",
       "      <td>NaN</td>\n",
       "      <td>NaN</td>\n",
       "      <td>NaN</td>\n",
       "      <td>NaN</td>\n",
       "      <td>NaN</td>\n",
       "      <td>NaN</td>\n",
       "      <td>NaN</td>\n",
       "      <td>NaN</td>\n",
       "    </tr>\n",
       "  </tbody>\n",
       "</table>\n",
       "<p>5 rows × 35 columns</p>\n",
       "</div>"
      ],
      "text/plain": [
       "  Filename  Number Output                                            Formula  \\\n",
       "0    I.6.2       2      f        exp(-(theta/sigma)**2/2)/(sqrt(2*pi)*sigma)   \n",
       "1   I.6.2b       3      f  exp(-((theta-theta1)/sigma)**2/2)/(sqrt(2*pi)*...   \n",
       "2   I.8.14       4      d                        sqrt((x2-x1)**2+(y2-y1)**2)   \n",
       "3   I.9.18       5      F         G*m1*m2/((x2-x1)**2+(y2-y1)**2+(z2-z1)**2)   \n",
       "4   I.10.7       6      m                              m_0/sqrt(1-v**2/c**2)   \n",
       "\n",
       "   # variables v1_name  v1_low  v1_high v2_name  v2_low  ...  v7_high v8_name  \\\n",
       "0            2   sigma       1        3   theta       1  ...      NaN     NaN   \n",
       "1            3   sigma       1        3   theta       1  ...      NaN     NaN   \n",
       "2            4      x1       1        5      x2       1  ...      NaN     NaN   \n",
       "3            9      m1       1        2      m2       1  ...      2.0      z1   \n",
       "4            3     m_0       1        5       v       1  ...      NaN     NaN   \n",
       "\n",
       "   v8_low  v8_high v9_name  v9_low  v9_high v10_name  v10_low  v10_high  \n",
       "0     NaN      NaN     NaN     NaN      NaN      NaN      NaN       NaN  \n",
       "1     NaN      NaN     NaN     NaN      NaN      NaN      NaN       NaN  \n",
       "2     NaN      NaN     NaN     NaN      NaN      NaN      NaN       NaN  \n",
       "3     3.0      4.0      z2     1.0      2.0      NaN      NaN       NaN  \n",
       "4     NaN      NaN     NaN     NaN      NaN      NaN      NaN       NaN  \n",
       "\n",
       "[5 rows x 35 columns]"
      ]
     },
     "metadata": {},
     "output_type": "display_data"
    },
    {
     "data": {
      "image/png": "[encoded data removed]",
      "text/plain": [
       "<Figure size 360x216 with 1 Axes>"
      ]
     },
     "metadata": {
      "needs_background": "light"
     },
     "output_type": "display_data"
    }
   ],
   "source": [
    "feynman_info = pd.read_csv(f'../../datasets/FeynmanEquations.csv')\n",
    "\n",
    "display(feynman_info.head())\n",
    "\n",
    "# Plotting the distribution of the number of variables\n",
    "fig, ax = plt.subplots(1, 1, figsize=(5, 3))\n",
    "\n",
    "ax = sns.histplot(\n",
    "    feynman_info['# variables'],\n",
    "    ax=ax,\n",
    "    bins= np.arange(\n",
    "        feynman_info['# variables'].min() - 0.5,\n",
    "        feynman_info['# variables'].max()+ 0.5,\n",
    "        1\n",
    "    ),\n",
    "    kde=False\n",
    ")\n",
    "\n",
    "ax.set_xlabel('Dimension of data sets')\n",
    "ax.set_ylabel('Count')\n",
    "\n",
    "plt.tight_layout()\n",
    "plt.savefig(f'{analyzed_path}numofvariables.pdf')\n",
    "plt.show()"
   ]
  },
  {
   "cell_type": "markdown",
   "id": "317ecb16",
   "metadata": {},
   "source": [
    "## Post processing regression metrics results"
   ]
  },
  {
   "cell_type": "code",
   "execution_count": 3,
   "id": "da2421e8",
   "metadata": {},
   "outputs": [],
   "source": [
    "def post_processing_regression_metrics(*, info_to_extract, index=False):\n",
    "    \"\"\"Returns an dataframe where each row is the median for each dataset\n",
    "    and each column is information to extract with a suffix indicating the regressor\n",
    "    (r2_test_ITEA, r2_test_Operon, ...).\n",
    "    \n",
    "    info_to_extract can be one of [r2_train, r2_test, rmse_train, rmse_test, tot_time]\n",
    "    \"\"\"\n",
    "    \n",
    "    # data will be a dataframe merging results for each regressor\n",
    "    data = None\n",
    "    for regressor in regressors.__all__ + ['Operon_regressor']:\n",
    "        \n",
    "        # Loading the regression results\n",
    "        df_regression = pd.read_csv(f'{Auxiliary.regression_path}{regressor}.csv')\n",
    "\n",
    "        # Here we'll group the multiple executions for each data set\n",
    "        # then calculate the median for each data set. The new_df will be\n",
    "        # a dataframe where the first column is the name of the data set\n",
    "        # and the second column is the median of the multiple executions\n",
    "        # for this data set.\n",
    "        new_df = df_regression.loc[:, ['dataset', info_to_extract]].groupby(\n",
    "            ['dataset']).median().reset_index(level=[0])\n",
    "        \n",
    "        # Cleaning the regressor name (the class name is '<name>_regressor')\n",
    "        new_df.columns = ['dataset', f'{info_to_extract}_{regressor.replace(\"_regressor\", \"\")}']\n",
    "\n",
    "        # Merging the results\n",
    "        data = new_df if data is None else pd.merge(data, new_df, on=\"dataset\", how='outer')\n",
    "\n",
    "    # deciding if the data sets should be a column or the index of the data frame\n",
    "    if index:\n",
    "        data.set_index('dataset', inplace=True)\n",
    "\n",
    "    return data"
   ]
  },
  {
   "cell_type": "code",
   "execution_count": 4,
   "id": "87083bf4",
   "metadata": {
    "scrolled": false
   },
   "outputs": [
    {
     "name": "stdout",
     "output_type": "stream",
     "text": [
      "r2_test\n"
     ]
    },
    {
     "data": {
      "image/png": "[encoded data removed]",
      "text/plain": [
       "<Figure size 432x252 with 1 Axes>"
      ]
     },
     "metadata": {
      "needs_background": "light"
     },
     "output_type": "display_data"
    },
    {
     "data": {
      "image/png": "[encoded data removed]",
      "text/plain": [
       "<Figure size 432x144 with 1 Axes>"
      ]
     },
     "metadata": {
      "needs_background": "light"
     },
     "output_type": "display_data"
    },
    {
     "name": "stdout",
     "output_type": "stream",
     "text": [
      "rmse_test\n"
     ]
    },
    {
     "data": {
      "image/png": "[encoded data removed]",
      "text/plain": [
       "<Figure size 432x252 with 1 Axes>"
      ]
     },
     "metadata": {
      "needs_background": "light"
     },
     "output_type": "display_data"
    },
    {
     "data": {
      "image/png": "[encoded data removed]",
      "text/plain": [
       "<Figure size 432x144 with 1 Axes>"
      ]
     },
     "metadata": {
      "needs_background": "light"
     },
     "output_type": "display_data"
    }
   ],
   "source": [
    "for info_to_extract in ['r2_test', 'rmse_test']:\n",
    "\n",
    "    print(info_to_extract)\n",
    "    \n",
    "    res = post_processing_regression_metrics(info_to_extract=info_to_extract, index=True)\n",
    "\n",
    "    res.columns = [col.replace(f'{info_to_extract}_', '') for col in res.columns]\n",
    "\n",
    "    # Sorting the regressors by the median\n",
    "    res = res[res.median().sort_values(\n",
    "        ascending=(False if 'r2' in info_to_extract else True)\n",
    "    ).index]\n",
    "\n",
    "    # Boxplot ----------------------------------------------------------------\n",
    "    fig, axs = plt.subplots(1, 1, figsize=(6, 3.5))\n",
    "\n",
    "    flierprops = dict(\n",
    "        marker='o', markerfacecolor='black', markersize=2, markeredgecolor='black')\n",
    "    \n",
    "    sns.boxplot(data=res, orient=\"h\",medianprops={'color': 'k'},\n",
    "        showfliers=True, flierprops=flierprops, ax=axs)\n",
    "\n",
    "    reverse_cd = False\n",
    "    if 'r2' in info_to_extract:\n",
    "        axs.set_xlim([-0.5, 1.05])\n",
    "    else:\n",
    "        axs.set_xlim([-0.25, 9.7])\n",
    "        reverse_cd = True\n",
    "\n",
    "    # Creating a color gradient\n",
    "    for box, color in zip(axs.artists, sns.color_palette(\"Blues\", len(axs.artists))):\n",
    "        box.set_color(color)\n",
    "\n",
    "    axs.set_yticklabels(res.columns, fontsize = 12, ha='right')\n",
    "\n",
    "    for spine in ['right', 'top', 'bottom']:\n",
    "        axs.spines[spine].set_visible(False)\n",
    "\n",
    "    axs.grid()\n",
    "\n",
    "    plt.tight_layout()\n",
    "    plt.savefig(f'{analyzed_path}{info_to_extract}_boxplot_traintest.pdf', bbox_inches='tight')\n",
    "    plt.show()\n",
    "\n",
    "    # Critical diagram -------------------------------------------------------\n",
    "    melted_res = pd.melt(res.reset_index(), id_vars=['dataset'])\n",
    "    melted_res.columns = ['dataset_name', 'classifier_name', 'accuracy']\n",
    "\n",
    "    fig, axs = plt.subplots(1, 1, figsize=(6, 2.0))\n",
    "\n",
    "    draw_cd_diagram(\n",
    "        df_perf=melted_res, labels=False, ax=axs, width=10,\n",
    "        textspace=1, reverse=reverse_cd\n",
    "    )\n",
    "\n",
    "    plt.tight_layout()\n",
    "    plt.savefig(f'{analyzed_path}{info_to_extract}_criticaldiagram_traintest.pdf', bbox_inches='tight')\n",
    "    plt.show()"
   ]
  }
 ],
 "metadata": {
  "kernelspec": {
   "display_name": "Python 3",
   "language": "python",
   "name": "python3"
  },
  "language_info": {
   "codemirror_mode": {
    "name": "ipython",
    "version": 3
   },
   "file_extension": ".py",
   "mimetype": "text/x-python",
   "name": "python",
   "nbconvert_exporter": "python",
   "pygments_lexer": "ipython3",
   "version": "3.7.6"
  }
 },
 "nbformat": 4,
 "nbformat_minor": 5
}
